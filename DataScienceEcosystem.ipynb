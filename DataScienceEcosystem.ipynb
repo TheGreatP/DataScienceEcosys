# Data Science Tools for Ecosystem

In this notebook, Data Science Tools and Ecosystem aresummarized.  

Some of the popular languages that Data Scientists use are: 

1. Python

1. SQL

1. Java

1. Scala

1. JavaScript

1. C/C++

1. R

1. MATLAB

1. Julia

1. Go  

Some of the commonly used libraries used by Data Scientists include:  

  1. Panda

  2. Numpy

  3. Matplotlib

  4. Seaborn

  5. Scikit-learn

  6. Keras

  | Data Science Tools |

|:--|

|Rstudio|

|Jupyter Network |

|Zeppelin Notebook |

### Below are a few examples of evaluating arithmetic expressions in Python.

 This a simple arithmetic expression to mutiply then add integers.

 

 This will convert 200 minutes to hours by dividing by 60

 import pyodide

# Input the number of minutes as a string

minutes_str = pyodide.input("Enter the number of minutes: ")

# Convert the string to a JavaScript number

minutes_js = pyodide.to_js(minutes_str)

# Convert minutes to hours

hours = minutes_js / 60

# Display the result

pyodide.print(f"{minutes_js} minutes is equal to {hours} hours.")

**Objectives:**

* List of popular languages for data Science

* commonly used libraries by Data Scientists 

* Data Science Tools

## Author 
Folorunso Odeyemi